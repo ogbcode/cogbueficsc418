{
 "cells": [
  {
   "cell_type": "code",
   "execution_count": null,
   "metadata": {},
   "outputs": [],
   "source": [
    "\n",
    "# Translation\n",
    "\n",
    "import numpy as np\n",
    "import matplotlib.pyplot as plt\n",
    "import cv2 as cv\n",
    "img=cv.imread('img/fatima.jpg',0)\n",
    "rows,cols=img.shape\n",
    "plt.subplot(1,2,1)\n",
    "plt.title('Original')\n",
    "plt.imshow(img)\n",
    "\n",
    "M=np.float32([[1,0,100],[0,1,50]])\n",
    "transl=cv.warpAffine(img,M,(cols,rows))\n",
    "plt.subplot(1,2,2)\n",
    "plt.title(\"Translated image\")\n",
    "plt.imshow(transl)\n",
    "\n",
    "\n"
   ]
  },
  {
   "cell_type": "code",
   "execution_count": null,
   "metadata": {},
   "outputs": [],
   "source": [
    "\n",
    "# reflection\n",
    "\n",
    "import numpy as np\n",
    "import matplotlib.pyplot as plt\n",
    "import cv2 as cv\n",
    "img=cv.imread('img/fatima.jpg',0)\n",
    "rows,cols=img.shape\n",
    "plt.subplot(1,2,1)\n",
    "plt.title('Original')\n",
    "plt.imshow(img)\n",
    "\n",
    "M=np.float32([[1,0,0],[0,-1,rows],[0,0,1]])\n",
    "transl=cv.warpPerspective(img,M,(int(cols),int(rows)))\n",
    "plt.subplot(1,2,2)\n",
    "plt.title(\"reflected image\")\n",
    "plt.imshow(transl)\n",
    "\n",
    "\n"
   ]
  },
  {
   "cell_type": "code",
   "execution_count": null,
   "metadata": {},
   "outputs": [],
   "source": []
  }
 ],
 "metadata": {
  "kernelspec": {
   "display_name": "Python 3",
   "language": "python",
   "name": "python3"
  },
  "language_info": {
   "codemirror_mode": {
    "name": "ipython",
    "version": 3
   },
   "file_extension": ".py",
   "mimetype": "text/x-python",
   "name": "python",
   "nbconvert_exporter": "python",
   "pygments_lexer": "ipython3",
   "version": "3.10.6"
  }
 },
 "nbformat": 4,
 "nbformat_minor": 2
}
