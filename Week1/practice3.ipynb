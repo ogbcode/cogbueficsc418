{
 "cells": [
  {
   "cell_type": "code",
   "execution_count": 2,
   "metadata": {},
   "outputs": [
    {
     "name": "stdout",
     "output_type": "stream",
     "text": [
      "before saving image\n",
      "['bridge.jpeg']\n",
      "after saving image\n",
      "['bridge.jpeg', 'greyimage.jpeg']\n",
      "sucessfully saved \n"
     ]
    }
   ],
   "source": [
    "import cv2\n",
    "import os\n",
    "image_path=r\"C:\\Users\\tradi\\Documents\\SCHOOL\\coding\\CSC418\\cogbueficsc418\\Week1\\img\\bridge.jpeg\"\n",
    "directory=r\"C:\\Users\\tradi\\Documents\\SCHOOL\\coding\\CSC418\\cogbueficsc418\\Week1\\img\"\n",
    "img=cv2.imread(image_path,0)\n",
    "os.chdir(directory)\n",
    "print(\"before saving image\")\n",
    "print(os.listdir(directory))\n",
    "filename=\"greyimage.jpeg\"\n",
    "cv2.imwrite(filename,img)\n",
    "print(\"after saving image\")\n",
    "print(os.listdir(directory))\n",
    "print(\"sucessfully saved \")"
   ]
  }
 ],
 "metadata": {
  "kernelspec": {
   "display_name": "SpecialTopics",
   "language": "python",
   "name": "python3"
  },
  "language_info": {
   "codemirror_mode": {
    "name": "ipython",
    "version": 3
   },
   "file_extension": ".py",
   "mimetype": "text/x-python",
   "name": "python",
   "nbconvert_exporter": "python",
   "pygments_lexer": "ipython3",
   "version": "3.10.6"
  }
 },
 "nbformat": 4,
 "nbformat_minor": 2
}
