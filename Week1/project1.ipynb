{
 "cells": [
  {
   "cell_type": "code",
   "execution_count": 10,
   "metadata": {},
   "outputs": [
    {
     "name": "stdout",
     "output_type": "stream",
     "text": [
      "Authentication successful.\n",
      "Name: Sola Oni\n",
      "Description: Dr. Oni is an Information Systems professional with experience in analysing the impact of the digital world on business operations at every level. She joined the faculty of the School of Management and Social Sciences in 2014 and became Dean in October 2020.\n",
      "\n",
      "She holds a doctorate in Information Systems from Brunel University. Her thesis focused on effective diffusion of innovation technologies among individuals and Small and Medium Size Enterprises (SMEs) and she has subsequently produced outputs outlining best policy and practice for governments, SMEs and technology service providers.\n",
      "\n",
      "Dr Oni teaches Introduction to Computer Science and Management Information Systems to students in 100, 200, 400 levels and also teaches executive students. She is interested in and is currently investigating smart homes and sustainability, social media use by organisations, digital ecosystems and knowledge sharing. She is a member of The Digital Economy ‘Communities and Culture’ Network+ which explores digital transformations.\n",
      "\n"
     ]
    }
   ],
   "source": [
    "import pandas as pd\n",
    "import requests\n",
    "from PIL import Image\n",
    "from io import BytesIO\n",
    "\n",
    "df = pd.read_excel(\"umc_profiles.xlsx\")\n",
    "\n",
    "def authenticate_user(username, password):\n",
    "    if username in df['Firstname'].values:\n",
    "        surname_length = df.loc[df['Firstname'] == username, 'Lastname'].iloc[0]\n",
    "        if len(surname_length) == int(password):\n",
    "            return True\n",
    "    return False\n",
    "\n",
    "def display_profile(username):\n",
    "    profile = df[df['Firstname'] == username]\n",
    "\n",
    "    print(\"Name:\", profile['Firstname'].iloc[0], profile['Lastname'].iloc[0])\n",
    "    print(\"Description:\", profile['Description'].iloc[0])\n",
    "\n",
    "    image_url = profile['imageurl'].iloc[0]\n",
    "    response = requests.get(image_url)\n",
    "    img = Image.open(BytesIO(response.content))\n",
    "    img.show()\n",
    "\n",
    "def Facial_recognition():\n",
    "    username = input(\"Enter your username (First name): \")\n",
    "    password = input(\"Enter your password (Length of your surname): \")\n",
    "\n",
    "    if authenticate_user(username, password):\n",
    "        print(\"Authentication successful.\")\n",
    "        display_profile(username)\n",
    "    else:\n",
    "        print(\"Authentication failed.\")\n",
    "def main():\n",
    "    Facial_recognition()\n",
    "\n",
    "if __name__ == \"__main__\":\n",
    "    main()\n"
   ]
  }
 ],
 "metadata": {
  "kernelspec": {
   "display_name": "Python 3",
   "language": "python",
   "name": "python3"
  },
  "language_info": {
   "codemirror_mode": {
    "name": "ipython",
    "version": 3
   },
   "file_extension": ".py",
   "mimetype": "text/x-python",
   "name": "python",
   "nbconvert_exporter": "python",
   "pygments_lexer": "ipython3",
   "version": "3.10.6"
  }
 },
 "nbformat": 4,
 "nbformat_minor": 2
}
